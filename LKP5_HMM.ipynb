{
  "nbformat": 4,
  "nbformat_minor": 0,
  "metadata": {
    "colab": {
      "provenance": [],
      "authorship_tag": "ABX9TyM861ieSqktfmSFtgNX6k5L",
      "include_colab_link": true
    },
    "kernelspec": {
      "name": "python3",
      "display_name": "Python 3"
    },
    "language_info": {
      "name": "python"
    }
  },
  "cells": [
    {
      "cell_type": "markdown",
      "metadata": {
        "id": "view-in-github",
        "colab_type": "text"
      },
      "source": [
        "<a href=\"https://colab.research.google.com/github/EskawatiKD/G6501231034/blob/main/LKP5_HMM.ipynb\" target=\"_parent\"><img src=\"https://colab.research.google.com/assets/colab-badge.svg\" alt=\"Open In Colab\"/></a>"
      ]
    },
    {
      "cell_type": "code",
      "execution_count": 1,
      "metadata": {
        "colab": {
          "base_uri": "https://localhost:8080/"
        },
        "id": "92C_1DsIuZi-",
        "outputId": "f70dfd0a-218f-462a-9ef2-054cfa21e741"
      },
      "outputs": [
        {
          "output_type": "stream",
          "name": "stdout",
          "text": [
            "Collecting hmmlearn==0.2.2\n",
            "  Downloading hmmlearn-0.2.2.tar.gz (146 kB)\n",
            "\u001b[?25l     \u001b[90m━━━━━━━━━━━━━━━━━━━━━━━━━━━━━━━━━━━━━━━━\u001b[0m \u001b[32m0.0/146.4 kB\u001b[0m \u001b[31m?\u001b[0m eta \u001b[36m-:--:--\u001b[0m\r\u001b[2K     \u001b[90m━━━━━━━━━━━━━━━━━━━━━━━━━━━━━━━━━━━━━━━\u001b[0m \u001b[32m146.4/146.4 kB\u001b[0m \u001b[31m4.2 MB/s\u001b[0m eta \u001b[36m0:00:00\u001b[0m\n",
            "\u001b[?25h  Preparing metadata (setup.py) ... \u001b[?25l\u001b[?25hdone\n",
            "Requirement already satisfied: numpy>=1.10 in /usr/local/lib/python3.10/dist-packages (from hmmlearn==0.2.2) (1.23.5)\n",
            "Requirement already satisfied: scikit-learn>=0.16 in /usr/local/lib/python3.10/dist-packages (from hmmlearn==0.2.2) (1.2.2)\n",
            "Requirement already satisfied: scipy>=1.3.2 in /usr/local/lib/python3.10/dist-packages (from scikit-learn>=0.16->hmmlearn==0.2.2) (1.11.3)\n",
            "Requirement already satisfied: joblib>=1.1.1 in /usr/local/lib/python3.10/dist-packages (from scikit-learn>=0.16->hmmlearn==0.2.2) (1.3.2)\n",
            "Requirement already satisfied: threadpoolctl>=2.0.0 in /usr/local/lib/python3.10/dist-packages (from scikit-learn>=0.16->hmmlearn==0.2.2) (3.2.0)\n",
            "Building wheels for collected packages: hmmlearn\n",
            "  Building wheel for hmmlearn (setup.py) ... \u001b[?25l\u001b[?25hdone\n",
            "  Created wheel for hmmlearn: filename=hmmlearn-0.2.2-cp310-cp310-linux_x86_64.whl size=465410 sha256=26fc4715b102c01d5267c111ca380ab827f606c88f87a7b58dc5ac466ad6a711\n",
            "  Stored in directory: /root/.cache/pip/wheels/50/ce/de/18a9f86c6f0c2863350674635b19f0b5149eaa89f6c571dc06\n",
            "Successfully built hmmlearn\n",
            "Installing collected packages: hmmlearn\n",
            "Successfully installed hmmlearn-0.2.2\n"
          ]
        }
      ],
      "source": [
        "pip install hmmlearn==0.2.2"
      ]
    },
    {
      "cell_type": "code",
      "source": [
        "# Definisi Matrik Transisi (states)\n",
        "\n",
        "states = ('Rainy', 'Sunny')\n",
        "\n",
        "# definisi Matriks Observasi / Matrik emmisi\n",
        "observations = ('walk', 'shop', 'clean')\n",
        "\n",
        "# definisi Matriks Priority\n",
        "start_probability = {'Rainy': 0.6, 'Sunny': 0.4}\n",
        "\n",
        "transition_probability = {\n",
        "   'Rainy' : {'Rainy': 0.7, 'Sunny': 0.3},\n",
        "   'Sunny' : {'Rainy': 0.4, 'Sunny': 0.6},\n",
        "   }\n",
        "\n",
        "emission_probability = {\n",
        "   'Rainy' : {'walk': 0.1, 'shop': 0.4, 'clean': 0.5},\n",
        "   'Sunny' : {'walk': 0.6, 'shop': 0.3, 'clean': 0.1},\n",
        "   }\n"
      ],
      "metadata": {
        "id": "jPPvMFefvpKP"
      },
      "execution_count": 2,
      "outputs": []
    },
    {
      "cell_type": "code",
      "source": [
        "# Library untuk HMM\n",
        "# Cara install pip install hmmlearn==0.2.2\n",
        "\n",
        "from hmmlearn import hmm\n",
        "import numpy as np\n",
        "\n",
        "model = hmm.MultinomialHMM(n_components=2)\n",
        "model.startprob_ = np.array([0.6, 0.4])\n",
        "model.transmat_ = np.array([[0.7, 0.3],\n",
        "                            [0.4, 0.6]])\n",
        "model.emissionprob_ = np.array([[0.1, 0.4, 0.5],\n",
        "                                [0.6, 0.3, 0.1]])\n"
      ],
      "metadata": {
        "id": "AEXyPxlGvsgE"
      },
      "execution_count": 3,
      "outputs": []
    },
    {
      "cell_type": "code",
      "source": [
        "# Given a known model what is the likelihood of sequence O happening?\n",
        "# The probability of the first observation being “Walk” equals to the multiplication\n",
        "# of the initial state distribution and emission probability matrix.\n",
        "# 0.6 x 0.1 + 0.4 x 0.6 = 0.30 (30%).\n",
        "# The log likelihood is provided from calling .score.\n",
        "# catatan {'walk', 'shop','clean' }\n",
        "# Kasus untuk initial state #\n",
        "# contoh untuk observasi 'walk'\n",
        "# peluang dari model jika observasi adalah 'walk'\n",
        "# 0.6 x 0.1 + 0.4 x 0.6 = 0.30 (30%)\n",
        "\n",
        "import math\n",
        "math.exp(model.score(np.array([[0]])))\n",
        "\n",
        "\n",
        "# contoh untuk observasi 'shop'\n",
        "# peluang dari model jika observasi adalah 'shop'\n",
        "# 0.6 x 0.4 + 0.4 x 0.3 = (36%)\n",
        "\n",
        "math.exp(model.score(np.array([[1]])))\n"
      ],
      "metadata": {
        "colab": {
          "base_uri": "https://localhost:8080/"
        },
        "id": "ZWyjZQmyvw6v",
        "outputId": "50463140-d603-41f5-dfc5-2e537767f22d"
      },
      "execution_count": 4,
      "outputs": [
        {
          "output_type": "execute_result",
          "data": {
            "text/plain": [
              "0.36000000000000004"
            ]
          },
          "metadata": {},
          "execution_count": 4
        }
      ]
    },
    {
      "cell_type": "code",
      "source": [
        "# contoh untuk observasi 'clean'\n",
        "# peluang dari model jika observasi adalah 'clean'\n",
        "# 0.6 x 0.5 + 0.4 x 0.1 = (34%)\n",
        "\n",
        "math.exp(model.score(np.array([[2]])))\n"
      ],
      "metadata": {
        "colab": {
          "base_uri": "https://localhost:8080/"
        },
        "id": "QH7RTzxEwJzU",
        "outputId": "702299ce-5f28-40b4-ddfa-86a93d9a57ee"
      },
      "execution_count": 5,
      "outputs": [
        {
          "output_type": "execute_result",
          "data": {
            "text/plain": [
              "0.3400000000000001"
            ]
          },
          "metadata": {},
          "execution_count": 5
        }
      ]
    },
    {
      "cell_type": "code",
      "source": [
        "# contoh untuk observasi {'clean', 'clean'}\n",
        "# peluang dari model jika observasi {'clean', 'clean'} adalah\n",
        "\n",
        "math.exp(model.score(np.array([[2,2]])))\n"
      ],
      "metadata": {
        "colab": {
          "base_uri": "https://localhost:8080/"
        },
        "id": "DDKWSU2qwOgR",
        "outputId": "e1557919-6f5b-4e40-f6cb-7a49c0ea4673"
      },
      "execution_count": 6,
      "outputs": [
        {
          "output_type": "execute_result",
          "data": {
            "text/plain": [
              "0.1244"
            ]
          },
          "metadata": {},
          "execution_count": 6
        }
      ]
    },
    {
      "cell_type": "code",
      "source": [
        "#==== HMM decode dengan algoritma viterbi di dalamnya ======#\n",
        "logprob, seq = model.decode(np.array([[1,2,0]]).transpose())\n",
        "print(math.exp(logprob))\n",
        "print(seq)\n"
      ],
      "metadata": {
        "colab": {
          "base_uri": "https://localhost:8080/"
        },
        "id": "xvQLnTfpwZLW",
        "outputId": "50da4136-152a-4af5-dad9-9db614de2144"
      },
      "execution_count": 7,
      "outputs": [
        {
          "output_type": "stream",
          "name": "stdout",
          "text": [
            "0.015120000000000003\n",
            "[0 0 1]\n"
          ]
        }
      ]
    },
    {
      "cell_type": "code",
      "source": [
        "logprob, seq = model.decode(np.array([[2,2,2]]).transpose())\n",
        "print(math.exp(logprob))\n",
        "print(seq)\n"
      ],
      "metadata": {
        "colab": {
          "base_uri": "https://localhost:8080/"
        },
        "id": "Pi4745yRwdxI",
        "outputId": "c6312537-e585-44c9-fc0c-27dad10d983f"
      },
      "execution_count": 8,
      "outputs": [
        {
          "output_type": "stream",
          "name": "stdout",
          "text": [
            "0.03674999999999999\n",
            "[0 0 0]\n"
          ]
        }
      ]
    },
    {
      "cell_type": "code",
      "source": [
        "# Hitung peluang dari model observasi\n",
        "# Observasi {'clean','clean','walk','walk','shop'}\n",
        "math.exp(model.score(np.array([[2,2,0,0,1]])))"
      ],
      "metadata": {
        "colab": {
          "base_uri": "https://localhost:8080/"
        },
        "id": "iubjh-4cwtUk",
        "outputId": "6902a073-88ef-4f53-c23a-c1fb87026cef"
      },
      "execution_count": 10,
      "outputs": [
        {
          "output_type": "execute_result",
          "data": {
            "text/plain": [
              "0.004082395400000001"
            ]
          },
          "metadata": {},
          "execution_count": 10
        }
      ]
    },
    {
      "cell_type": "code",
      "source": [
        "logprob, seq = model.decode(np.array([[2,2,0,0,1]]).transpose())\n",
        "print(math.exp(logprob))\n",
        "print(seq)"
      ],
      "metadata": {
        "colab": {
          "base_uri": "https://localhost:8080/"
        },
        "id": "r-o98rf1xRdi",
        "outputId": "ff38a9b6-2a5c-4cfb-f122-38495258fffc"
      },
      "execution_count": 11,
      "outputs": [
        {
          "output_type": "stream",
          "name": "stdout",
          "text": [
            "0.001224720000000001\n",
            "[0 0 1 1 1]\n"
          ]
        }
      ]
    }
  ]
}